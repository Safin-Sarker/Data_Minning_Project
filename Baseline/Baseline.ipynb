{
 "cells": [
  {
   "cell_type": "markdown",
   "id": "be7db181",
   "metadata": {},
   "source": [
    "# Baseline"
   ]
  },
  {
   "cell_type": "code",
   "execution_count": null,
   "id": "b97b2edf",
   "metadata": {},
   "outputs": [],
   "source": [
    "# baseline model implementation function"
   ]
  },
  {
   "cell_type": "code",
   "execution_count": null,
   "id": "8937f073",
   "metadata": {},
   "outputs": [],
   "source": [
    "# main function to call bmif with all language's dev-test files and generate output_baseline_<lang>.csv files in output_data folder"
   ]
  }
 ],
 "metadata": {
  "kernelspec": {
   "display_name": "Python 3 (ipykernel)",
   "language": "python",
   "name": "python3"
  },
  "language_info": {
   "codemirror_mode": {
    "name": "ipython",
    "version": 3
   },
   "file_extension": ".py",
   "mimetype": "text/x-python",
   "name": "python",
   "nbconvert_exporter": "python",
   "pygments_lexer": "ipython3",
   "version": "3.11.5"
  }
 },
 "nbformat": 4,
 "nbformat_minor": 5
}
