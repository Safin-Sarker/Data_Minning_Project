{
 "cells": [
  {
   "cell_type": "code",
   "execution_count": null,
   "metadata": {},
   "outputs": [],
   "source": [
    "import pandas as pd\n",
    "from sklearn.metrics import accuracy_score, precision_score, f1_score, recall_score\n",
    "\n",
    "def evaluate_predictions(raw_file, output_file):\n",
    "    # Read raw test data\n",
    "    raw_df = pd.read_csv(raw_file)\n",
    "    raw_df.set_index('tweet_id', inplace=True)\n",
    "\n",
    "    # Read output test data\n",
    "    output_df = pd.read_csv(output_file)\n",
    "    output_df.set_index('tweet_id', inplace=True)\n",
    "\n",
    "    # Join dataframes on tweet_id\n",
    "    merged_df = raw_df.join(output_df, how='inner', lsuffix='_raw', rsuffix='_output')\n",
    "\n",
    "    # Drop rows with NaN values in the output label\n",
    "    merged_df.dropna(subset=['class_label_output'], inplace=True)\n",
    "\n",
    "    # Convert labels in the output file to match the case of labels in the input file\n",
    "    merged_df['class_label_raw'] = merged_df['class_label_raw'].apply(lambda x: x.lower())\n",
    "\n",
    "    # Convert labels in the output file to match the case of labels in the input file\n",
    "    # merged_df['class_label_output'] = merged_df['class_label_output'].str.rstrip('.')\n",
    "\n",
    "\n",
    "    # Calculate metrics\n",
    "    accuracy = accuracy_score(merged_df['class_label_raw'], merged_df['class_label_output'])\n",
    "    precision = precision_score(merged_df['class_label_raw'], merged_df['class_label_output'], pos_label='yes',average='binary', zero_division=0)\n",
    "    f1 = f1_score(merged_df['class_label_raw'], merged_df['class_label_output'], pos_label='yes',average='binary', zero_division=0)\n",
    "    recall = recall_score(merged_df['class_label_raw'], merged_df['class_label_output'], pos_label='yes',average='binary', zero_division=0)\n",
    "\n",
    "    return accuracy, precision, f1, recall\n",
    "\n",
    "# Example usage\n",
    "raw_file = 'test_preprocessed.csv'\n",
    "output_file = 'output.csv'\n",
    "accuracy, precision, f1, recall = evaluate_predictions(raw_file, output_file)\n",
    "\n",
    "print(\"Accuracy:\", accuracy)\n",
    "print(\"Precision:\", precision)\n",
    "print(\"F1 Score:\", f1)\n",
    "print(\"Recall Score:\", recall)\n"
   ]
  }
 ],
 "metadata": {
  "language_info": {
   "name": "python"
  }
 },
 "nbformat": 4,
 "nbformat_minor": 2
}
