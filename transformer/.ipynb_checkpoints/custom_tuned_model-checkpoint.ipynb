{
 "cells": [
  {
   "cell_type": "code",
   "execution_count": 1,
   "metadata": {},
   "outputs": [],
   "source": [
    "import pandas as pd\n",
    "import torch\n",
    "from torch.nn.functional import softmax\n",
    "from transformers import XLMRobertaTokenizer, XLMRobertaForSequenceClassification"
   ]
  },
  {
   "cell_type": "code",
   "execution_count": 5,
   "metadata": {},
   "outputs": [],
   "source": [
    "def predict_class(test_file_path, language):\n",
    "\n",
    "    # Load XLM-RoBERTa tokenizer and model\n",
    "    model_path = \"../fine_tuned_models/fine_tuned_xlm_roberta_model_\"+language\n",
    "    tokenizer = XLMRobertaTokenizer.from_pretrained('xlm-roberta-base')\n",
    "    model = XLMRobertaForSequenceClassification.from_pretrained(model_path)\n",
    "    \n",
    "    # Load test data\n",
    "    test_data = pd.read_csv(test_file_path)\n",
    "    \n",
    "    # Prepare inputs for the model\n",
    "    inputs = tokenizer(test_data['tweet_text'].tolist(), padding=True, truncation=True, return_tensors='pt')\n",
    "    \n",
    "    # Make predictions\n",
    "    with torch.no_grad():\n",
    "        outputs = model(**inputs)\n",
    "    \n",
    "    # Apply softmax to get predicted probabilities\n",
    "    probabilities = softmax(outputs.logits, dim=1)\n",
    "    \n",
    "    # Get predicted class labels based on probability threshold\n",
    "    threshold = 0.5 \n",
    "    predicted_labels = ['yes' if prob[1] > threshold else 'no' for prob in probabilities]\n",
    "    \n",
    "    # Add predicted labels to the test data\n",
    "    test_data['predicted_label'] = predicted_labels\n",
    "    \n",
    "    # Save results to CSV\n",
    "    test_data[['tweet_id', 'predicted_label']].to_csv(\"../output_data/transformer/output_\"+language+\".csv\", index=False)\n"
   ]
  },
  {
   "cell_type": "code",
   "execution_count": 6,
   "metadata": {},
   "outputs": [],
   "source": [
    "\n",
    "eng_test_file_path = \"../data/processed_data/CT24_checkworthy_english/CT24_checkworthy_english_dev-test_preprocessed.csv\"\n",
    "predict_class(eng_test_file_path, \"english\")\n",
    "\n",
    "arabic_test_file_path = \"../data/processed_data/CT24_checkworthy_arabic/CT24_checkworthy_arabic_dev-test_preprocessed.csv\"\n",
    "predict_class(arabic_test_file_path, \"arabic\")\n",
    "\n",
    "dutch_test_file_path = \"../data/processed_data/CT24_checkworthy_dutch/CT24_checkworthy_dutch_dev-test_preprocessed.csv\"\n",
    "predict_class(dutch_test_file_path, \"dutch\")"
   ]
  },
  {
   "cell_type": "code",
   "execution_count": null,
   "metadata": {},
   "outputs": [],
   "source": []
  }
 ],
 "metadata": {
  "kernelspec": {
   "display_name": "Python 3 (ipykernel)",
   "language": "python",
   "name": "python3"
  },
  "language_info": {
   "codemirror_mode": {
    "name": "ipython",
    "version": 3
   },
   "file_extension": ".py",
   "mimetype": "text/x-python",
   "name": "python",
   "nbconvert_exporter": "python",
   "pygments_lexer": "ipython3",
   "version": "3.11.7"
  }
 },
 "nbformat": 4,
 "nbformat_minor": 4
}
